{
 "cells": [
  {
   "cell_type": "code",
   "execution_count": 15,
   "metadata": {},
   "outputs": [],
   "source": [
    "import pandas as pd \n",
    "import numpy as np\n",
    "import seaborn as sns\n",
    "import matplotlib.pyplot as plt"
   ]
  },
  {
   "cell_type": "code",
   "execution_count": 2,
   "metadata": {},
   "outputs": [
    {
     "data": {
      "text/html": [
       "<div>\n",
       "<style scoped>\n",
       "    .dataframe tbody tr th:only-of-type {\n",
       "        vertical-align: middle;\n",
       "    }\n",
       "\n",
       "    .dataframe tbody tr th {\n",
       "        vertical-align: top;\n",
       "    }\n",
       "\n",
       "    .dataframe thead th {\n",
       "        text-align: right;\n",
       "    }\n",
       "</style>\n",
       "<table border=\"1\" class=\"dataframe\">\n",
       "  <thead>\n",
       "    <tr style=\"text-align: right;\">\n",
       "      <th></th>\n",
       "      <th>Review</th>\n",
       "      <th>date</th>\n",
       "      <th>Location</th>\n",
       "    </tr>\n",
       "  </thead>\n",
       "  <tbody>\n",
       "    <tr>\n",
       "      <th>0</th>\n",
       "      <td>I was very impressed with the resort.\\nGreat s...</td>\n",
       "      <td>2019-08-20</td>\n",
       "      <td>Sebastian</td>\n",
       "    </tr>\n",
       "    <tr>\n",
       "      <th>1</th>\n",
       "      <td>The rooms were nice the outside needs work als...</td>\n",
       "      <td>2019-08-20</td>\n",
       "      <td>Los Angeles</td>\n",
       "    </tr>\n",
       "    <tr>\n",
       "      <th>2</th>\n",
       "      <td>Great location! I have stayed at this hotel on...</td>\n",
       "      <td>2019-08-20</td>\n",
       "      <td>Georgia</td>\n",
       "    </tr>\n",
       "    <tr>\n",
       "      <th>3</th>\n",
       "      <td>The hotel was adequate for my stay. The strips...</td>\n",
       "      <td>2019-08-20</td>\n",
       "      <td>NaN</td>\n",
       "    </tr>\n",
       "    <tr>\n",
       "      <th>4</th>\n",
       "      <td>Great location, room was large and spacious. P...</td>\n",
       "      <td>2019-08-19</td>\n",
       "      <td>Palm Harbor</td>\n",
       "    </tr>\n",
       "    <tr>\n",
       "      <th>...</th>\n",
       "      <td>...</td>\n",
       "      <td>...</td>\n",
       "      <td>...</td>\n",
       "    </tr>\n",
       "    <tr>\n",
       "      <th>6443</th>\n",
       "      <td>·the staff were all so friendly. frank, the ch...</td>\n",
       "      <td>2019-07-12</td>\n",
       "      <td>United States of America</td>\n",
       "    </tr>\n",
       "    <tr>\n",
       "      <th>6444</th>\n",
       "      <td>·the internet barely worked or didn't work</td>\n",
       "      <td>2019-07-12</td>\n",
       "      <td>United States of America</td>\n",
       "    </tr>\n",
       "    <tr>\n",
       "      <th>6445</th>\n",
       "      <td>·the location was great.\\n\\n\\n\\n\\n·the bed was...</td>\n",
       "      <td>2019-07-10</td>\n",
       "      <td>United States of America</td>\n",
       "    </tr>\n",
       "    <tr>\n",
       "      <th>6446</th>\n",
       "      <td>·we were early for check in and the staff was ...</td>\n",
       "      <td>2019-07-10</td>\n",
       "      <td>United States of America</td>\n",
       "    </tr>\n",
       "    <tr>\n",
       "      <th>6447</th>\n",
       "      <td>·staff, free coffee, location and activities.\\...</td>\n",
       "      <td>2019-07-10</td>\n",
       "      <td>United States of America</td>\n",
       "    </tr>\n",
       "  </tbody>\n",
       "</table>\n",
       "<p>6448 rows × 3 columns</p>\n",
       "</div>"
      ],
      "text/plain": [
       "                                                 Review       date  \\\n",
       "0     I was very impressed with the resort.\\nGreat s... 2019-08-20   \n",
       "1     The rooms were nice the outside needs work als... 2019-08-20   \n",
       "2     Great location! I have stayed at this hotel on... 2019-08-20   \n",
       "3     The hotel was adequate for my stay. The strips... 2019-08-20   \n",
       "4     Great location, room was large and spacious. P... 2019-08-19   \n",
       "...                                                 ...        ...   \n",
       "6443  ·the staff were all so friendly. frank, the ch... 2019-07-12   \n",
       "6444         ·the internet barely worked or didn't work 2019-07-12   \n",
       "6445  ·the location was great.\\n\\n\\n\\n\\n·the bed was... 2019-07-10   \n",
       "6446  ·we were early for check in and the staff was ... 2019-07-10   \n",
       "6447  ·staff, free coffee, location and activities.\\... 2019-07-10   \n",
       "\n",
       "                      Location  \n",
       "0                    Sebastian  \n",
       "1                  Los Angeles  \n",
       "2                      Georgia  \n",
       "3                          NaN  \n",
       "4                  Palm Harbor  \n",
       "...                        ...  \n",
       "6443  United States of America  \n",
       "6444  United States of America  \n",
       "6445  United States of America  \n",
       "6446  United States of America  \n",
       "6447  United States of America  \n",
       "\n",
       "[6448 rows x 3 columns]"
      ]
     },
     "execution_count": 2,
     "metadata": {},
     "output_type": "execute_result"
    }
   ],
   "source": [
    "df=pd.read_excel('C:/Users/PRATAP/OneDrive/Desktop/clootract.xlsx')\n",
    "df"
   ]
  },
  {
   "cell_type": "code",
   "execution_count": 3,
   "metadata": {},
   "outputs": [
    {
     "data": {
      "text/plain": [
       "(6448, 3)"
      ]
     },
     "execution_count": 3,
     "metadata": {},
     "output_type": "execute_result"
    }
   ],
   "source": [
    "df.shape"
   ]
  },
  {
   "cell_type": "code",
   "execution_count": 4,
   "metadata": {},
   "outputs": [
    {
     "name": "stdout",
     "output_type": "stream",
     "text": [
      "Index(['Review', 'date', 'Location'], dtype='object') \n",
      "\n",
      "total variables----> 3\n"
     ]
    }
   ],
   "source": [
    "print(df.columns,'\\n')\n",
    "print('total variables---->',len(df.columns))"
   ]
  },
  {
   "cell_type": "code",
   "execution_count": 5,
   "metadata": {},
   "outputs": [
    {
     "data": {
      "text/plain": [
       "Review              object\n",
       "date        datetime64[ns]\n",
       "Location            object\n",
       "dtype: object"
      ]
     },
     "execution_count": 5,
     "metadata": {},
     "output_type": "execute_result"
    }
   ],
   "source": [
    "df.dtypes"
   ]
  },
  {
   "cell_type": "code",
   "execution_count": 6,
   "metadata": {},
   "outputs": [
    {
     "name": "stdout",
     "output_type": "stream",
     "text": [
      "<class 'pandas.core.frame.DataFrame'>\n",
      "RangeIndex: 6448 entries, 0 to 6447\n",
      "Data columns (total 3 columns):\n",
      " #   Column    Non-Null Count  Dtype         \n",
      "---  ------    --------------  -----         \n",
      " 0   Review    6393 non-null   object        \n",
      " 1   date      6448 non-null   datetime64[ns]\n",
      " 2   Location  1711 non-null   object        \n",
      "dtypes: datetime64[ns](1), object(2)\n",
      "memory usage: 151.2+ KB\n"
     ]
    }
   ],
   "source": [
    "df.info()"
   ]
  },
  {
   "cell_type": "markdown",
   "metadata": {},
   "source": [
    "nterpretation:\n",
    "\n",
    "    1) there are total 3 variables pesent in the dataset. \n",
    "    2)the datasets contains 2 objests, 1 datetime value.\n",
    "    3)null values present in the dataset."
   ]
  },
  {
   "cell_type": "code",
   "execution_count": 9,
   "metadata": {},
   "outputs": [
    {
     "data": {
      "text/plain": [
       "<matplotlib.axes._subplots.AxesSubplot at 0x222853dc948>"
      ]
     },
     "execution_count": 9,
     "metadata": {},
     "output_type": "execute_result"
    },
    {
     "data": {
      "image/png": "[encoded data removed]",
      "text/plain": [
       "<Figure size 432x288 with 2 Axes>"
      ]
     },
     "metadata": {
      "needs_background": "light"
     },
     "output_type": "display_data"
    }
   ],
   "source": [
    "#checking for missing values\n",
    "\n",
    "sns.heatmap(df.isnull())"
   ]
  },
  {
   "cell_type": "code",
   "execution_count": 10,
   "metadata": {},
   "outputs": [
    {
     "data": {
      "text/plain": [
       "Review        55\n",
       "date           0\n",
       "Location    4737\n",
       "dtype: int64"
      ]
     },
     "execution_count": 10,
     "metadata": {},
     "output_type": "execute_result"
    }
   ],
   "source": [
    "df.isnull().sum()"
   ]
  },
  {
   "cell_type": "markdown",
   "metadata": {},
   "source": [
    "interpretation:\n",
    "\n",
    "    1)there is null values are present in the dataset.\n",
    "    2)there are 55 null values present in review variable\n",
    "    3)there are 4737 null values present in location parameter"
   ]
  },
  {
   "cell_type": "code",
   "execution_count": 12,
   "metadata": {},
   "outputs": [
    {
     "name": "stdout",
     "output_type": "stream",
     "text": [
      "['Sebastian' 'Los Angeles' 'Georgia' ... 'India' 'Malaysia'\n",
      " 'Trinidad and Tobago'] \n",
      "\n",
      "total category----> 1083\n"
     ]
    }
   ],
   "source": [
    "#Exploratory data analysis univariate\n",
    "#data cleaning for location variable\n",
    "\n",
    "print(df['Location'].unique(),\"\\n\")\n",
    "print('total category---->',len(df['Location'].unique()))"
   ]
  },
  {
   "cell_type": "markdown",
   "metadata": {},
   "source": [
    "there are total 1083 unique values in location parameter"
   ]
  },
  {
   "cell_type": "code",
   "execution_count": 13,
   "metadata": {},
   "outputs": [
    {
     "name": "stdout",
     "output_type": "stream",
     "text": [
      "United States of America    116\n",
      "New York                     34\n",
      "San Jose                     19\n",
      "California                   19\n",
      "Canada                       16\n",
      "                           ... \n",
      "Miami Beach, Florida          1\n",
      "Maine, US                     1\n",
      "New York, ny                  1\n",
      "Sparks nv                     1\n",
      "Japan                         1\n",
      "Name: Location, Length: 1082, dtype: int64\n"
     ]
    }
   ],
   "source": [
    "print(df['Location'].value_counts())\n",
    "xb=df['Location'].value_counts().index"
   ]
  },
  {
   "cell_type": "markdown",
   "metadata": {},
   "source": [
    "maximum unique values in location parameter is united states of america which is 116 times"
   ]
  },
  {
   "cell_type": "code",
   "execution_count": 17,
   "metadata": {},
   "outputs": [],
   "source": [
    "df['Month'] = df['date'].dt.month\n",
    "df['Year'] = df['date'].dt.year\n",
    "df['Day'] = df['date'].dt.weekday"
   ]
  },
  {
   "cell_type": "code",
   "execution_count": 18,
   "metadata": {},
   "outputs": [
    {
     "data": {
      "text/html": [
       "<div>\n",
       "<style scoped>\n",
       "    .dataframe tbody tr th:only-of-type {\n",
       "        vertical-align: middle;\n",
       "    }\n",
       "\n",
       "    .dataframe tbody tr th {\n",
       "        vertical-align: top;\n",
       "    }\n",
       "\n",
       "    .dataframe thead th {\n",
       "        text-align: right;\n",
       "    }\n",
       "</style>\n",
       "<table border=\"1\" class=\"dataframe\">\n",
       "  <thead>\n",
       "    <tr style=\"text-align: right;\">\n",
       "      <th></th>\n",
       "      <th>Review</th>\n",
       "      <th>date</th>\n",
       "      <th>Location</th>\n",
       "      <th>Month</th>\n",
       "      <th>Year</th>\n",
       "      <th>Day</th>\n",
       "    </tr>\n",
       "  </thead>\n",
       "  <tbody>\n",
       "    <tr>\n",
       "      <th>0</th>\n",
       "      <td>I was very impressed with the resort.\\nGreat s...</td>\n",
       "      <td>2019-08-20</td>\n",
       "      <td>Sebastian</td>\n",
       "      <td>8</td>\n",
       "      <td>2019</td>\n",
       "      <td>1</td>\n",
       "    </tr>\n",
       "    <tr>\n",
       "      <th>1</th>\n",
       "      <td>The rooms were nice the outside needs work als...</td>\n",
       "      <td>2019-08-20</td>\n",
       "      <td>Los Angeles</td>\n",
       "      <td>8</td>\n",
       "      <td>2019</td>\n",
       "      <td>1</td>\n",
       "    </tr>\n",
       "    <tr>\n",
       "      <th>2</th>\n",
       "      <td>Great location! I have stayed at this hotel on...</td>\n",
       "      <td>2019-08-20</td>\n",
       "      <td>Georgia</td>\n",
       "      <td>8</td>\n",
       "      <td>2019</td>\n",
       "      <td>1</td>\n",
       "    </tr>\n",
       "    <tr>\n",
       "      <th>3</th>\n",
       "      <td>The hotel was adequate for my stay. The strips...</td>\n",
       "      <td>2019-08-20</td>\n",
       "      <td>NaN</td>\n",
       "      <td>8</td>\n",
       "      <td>2019</td>\n",
       "      <td>1</td>\n",
       "    </tr>\n",
       "    <tr>\n",
       "      <th>4</th>\n",
       "      <td>Great location, room was large and spacious. P...</td>\n",
       "      <td>2019-08-19</td>\n",
       "      <td>Palm Harbor</td>\n",
       "      <td>8</td>\n",
       "      <td>2019</td>\n",
       "      <td>0</td>\n",
       "    </tr>\n",
       "    <tr>\n",
       "      <th>...</th>\n",
       "      <td>...</td>\n",
       "      <td>...</td>\n",
       "      <td>...</td>\n",
       "      <td>...</td>\n",
       "      <td>...</td>\n",
       "      <td>...</td>\n",
       "    </tr>\n",
       "    <tr>\n",
       "      <th>6443</th>\n",
       "      <td>·the staff were all so friendly. frank, the ch...</td>\n",
       "      <td>2019-07-12</td>\n",
       "      <td>United States of America</td>\n",
       "      <td>7</td>\n",
       "      <td>2019</td>\n",
       "      <td>4</td>\n",
       "    </tr>\n",
       "    <tr>\n",
       "      <th>6444</th>\n",
       "      <td>·the internet barely worked or didn't work</td>\n",
       "      <td>2019-07-12</td>\n",
       "      <td>United States of America</td>\n",
       "      <td>7</td>\n",
       "      <td>2019</td>\n",
       "      <td>4</td>\n",
       "    </tr>\n",
       "    <tr>\n",
       "      <th>6445</th>\n",
       "      <td>·the location was great.\\n\\n\\n\\n\\n·the bed was...</td>\n",
       "      <td>2019-07-10</td>\n",
       "      <td>United States of America</td>\n",
       "      <td>7</td>\n",
       "      <td>2019</td>\n",
       "      <td>2</td>\n",
       "    </tr>\n",
       "    <tr>\n",
       "      <th>6446</th>\n",
       "      <td>·we were early for check in and the staff was ...</td>\n",
       "      <td>2019-07-10</td>\n",
       "      <td>United States of America</td>\n",
       "      <td>7</td>\n",
       "      <td>2019</td>\n",
       "      <td>2</td>\n",
       "    </tr>\n",
       "    <tr>\n",
       "      <th>6447</th>\n",
       "      <td>·staff, free coffee, location and activities.\\...</td>\n",
       "      <td>2019-07-10</td>\n",
       "      <td>United States of America</td>\n",
       "      <td>7</td>\n",
       "      <td>2019</td>\n",
       "      <td>2</td>\n",
       "    </tr>\n",
       "  </tbody>\n",
       "</table>\n",
       "<p>6448 rows × 6 columns</p>\n",
       "</div>"
      ],
      "text/plain": [
       "                                                 Review       date  \\\n",
       "0     I was very impressed with the resort.\\nGreat s... 2019-08-20   \n",
       "1     The rooms were nice the outside needs work als... 2019-08-20   \n",
       "2     Great location! I have stayed at this hotel on... 2019-08-20   \n",
       "3     The hotel was adequate for my stay. The strips... 2019-08-20   \n",
       "4     Great location, room was large and spacious. P... 2019-08-19   \n",
       "...                                                 ...        ...   \n",
       "6443  ·the staff were all so friendly. frank, the ch... 2019-07-12   \n",
       "6444         ·the internet barely worked or didn't work 2019-07-12   \n",
       "6445  ·the location was great.\\n\\n\\n\\n\\n·the bed was... 2019-07-10   \n",
       "6446  ·we were early for check in and the staff was ... 2019-07-10   \n",
       "6447  ·staff, free coffee, location and activities.\\... 2019-07-10   \n",
       "\n",
       "                      Location  Month  Year  Day  \n",
       "0                    Sebastian      8  2019    1  \n",
       "1                  Los Angeles      8  2019    1  \n",
       "2                      Georgia      8  2019    1  \n",
       "3                          NaN      8  2019    1  \n",
       "4                  Palm Harbor      8  2019    0  \n",
       "...                        ...    ...   ...  ...  \n",
       "6443  United States of America      7  2019    4  \n",
       "6444  United States of America      7  2019    4  \n",
       "6445  United States of America      7  2019    2  \n",
       "6446  United States of America      7  2019    2  \n",
       "6447  United States of America      7  2019    2  \n",
       "\n",
       "[6448 rows x 6 columns]"
      ]
     },
     "execution_count": 18,
     "metadata": {},
     "output_type": "execute_result"
    }
   ],
   "source": [
    "df"
   ]
  },
  {
   "cell_type": "code",
   "execution_count": 19,
   "metadata": {},
   "outputs": [],
   "source": [
    "Months = {1:'Jan',2:'Feb',3:'Mar', 4:'Apr', 5:'May', 6:'Jun', 7:'Jul', 8:'Aug', 9:'Sep', 10:'Oct', 11:'Nov', 12:'Dec'}\n",
    "Weekday = {0:\"Mon\", 1:\"Tue\", 2:\"Wed\", 3:\"Thu\", 4:\"Fri\", 5:\"Sat\", 6:\"Sun\"}\n",
    "df['Day'].replace(Weekday, inplace=True)\n",
    "df['Month'].replace(Months, inplace=True)"
   ]
  },
  {
   "cell_type": "code",
   "execution_count": 20,
   "metadata": {},
   "outputs": [
    {
     "data": {
      "text/html": [
       "<div>\n",
       "<style scoped>\n",
       "    .dataframe tbody tr th:only-of-type {\n",
       "        vertical-align: middle;\n",
       "    }\n",
       "\n",
       "    .dataframe tbody tr th {\n",
       "        vertical-align: top;\n",
       "    }\n",
       "\n",
       "    .dataframe thead th {\n",
       "        text-align: right;\n",
       "    }\n",
       "</style>\n",
       "<table border=\"1\" class=\"dataframe\">\n",
       "  <thead>\n",
       "    <tr style=\"text-align: right;\">\n",
       "      <th></th>\n",
       "      <th>Review</th>\n",
       "      <th>date</th>\n",
       "      <th>Location</th>\n",
       "      <th>Month</th>\n",
       "      <th>Year</th>\n",
       "      <th>Day</th>\n",
       "    </tr>\n",
       "  </thead>\n",
       "  <tbody>\n",
       "    <tr>\n",
       "      <th>0</th>\n",
       "      <td>I was very impressed with the resort.\\nGreat s...</td>\n",
       "      <td>2019-08-20</td>\n",
       "      <td>Sebastian</td>\n",
       "      <td>Aug</td>\n",
       "      <td>2019</td>\n",
       "      <td>Tue</td>\n",
       "    </tr>\n",
       "    <tr>\n",
       "      <th>1</th>\n",
       "      <td>The rooms were nice the outside needs work als...</td>\n",
       "      <td>2019-08-20</td>\n",
       "      <td>Los Angeles</td>\n",
       "      <td>Aug</td>\n",
       "      <td>2019</td>\n",
       "      <td>Tue</td>\n",
       "    </tr>\n",
       "    <tr>\n",
       "      <th>2</th>\n",
       "      <td>Great location! I have stayed at this hotel on...</td>\n",
       "      <td>2019-08-20</td>\n",
       "      <td>Georgia</td>\n",
       "      <td>Aug</td>\n",
       "      <td>2019</td>\n",
       "      <td>Tue</td>\n",
       "    </tr>\n",
       "    <tr>\n",
       "      <th>3</th>\n",
       "      <td>The hotel was adequate for my stay. The strips...</td>\n",
       "      <td>2019-08-20</td>\n",
       "      <td>NaN</td>\n",
       "      <td>Aug</td>\n",
       "      <td>2019</td>\n",
       "      <td>Tue</td>\n",
       "    </tr>\n",
       "    <tr>\n",
       "      <th>4</th>\n",
       "      <td>Great location, room was large and spacious. P...</td>\n",
       "      <td>2019-08-19</td>\n",
       "      <td>Palm Harbor</td>\n",
       "      <td>Aug</td>\n",
       "      <td>2019</td>\n",
       "      <td>Mon</td>\n",
       "    </tr>\n",
       "    <tr>\n",
       "      <th>...</th>\n",
       "      <td>...</td>\n",
       "      <td>...</td>\n",
       "      <td>...</td>\n",
       "      <td>...</td>\n",
       "      <td>...</td>\n",
       "      <td>...</td>\n",
       "    </tr>\n",
       "    <tr>\n",
       "      <th>6443</th>\n",
       "      <td>·the staff were all so friendly. frank, the ch...</td>\n",
       "      <td>2019-07-12</td>\n",
       "      <td>United States of America</td>\n",
       "      <td>Jul</td>\n",
       "      <td>2019</td>\n",
       "      <td>Fri</td>\n",
       "    </tr>\n",
       "    <tr>\n",
       "      <th>6444</th>\n",
       "      <td>·the internet barely worked or didn't work</td>\n",
       "      <td>2019-07-12</td>\n",
       "      <td>United States of America</td>\n",
       "      <td>Jul</td>\n",
       "      <td>2019</td>\n",
       "      <td>Fri</td>\n",
       "    </tr>\n",
       "    <tr>\n",
       "      <th>6445</th>\n",
       "      <td>·the location was great.\\n\\n\\n\\n\\n·the bed was...</td>\n",
       "      <td>2019-07-10</td>\n",
       "      <td>United States of America</td>\n",
       "      <td>Jul</td>\n",
       "      <td>2019</td>\n",
       "      <td>Wed</td>\n",
       "    </tr>\n",
       "    <tr>\n",
       "      <th>6446</th>\n",
       "      <td>·we were early for check in and the staff was ...</td>\n",
       "      <td>2019-07-10</td>\n",
       "      <td>United States of America</td>\n",
       "      <td>Jul</td>\n",
       "      <td>2019</td>\n",
       "      <td>Wed</td>\n",
       "    </tr>\n",
       "    <tr>\n",
       "      <th>6447</th>\n",
       "      <td>·staff, free coffee, location and activities.\\...</td>\n",
       "      <td>2019-07-10</td>\n",
       "      <td>United States of America</td>\n",
       "      <td>Jul</td>\n",
       "      <td>2019</td>\n",
       "      <td>Wed</td>\n",
       "    </tr>\n",
       "  </tbody>\n",
       "</table>\n",
       "<p>6448 rows × 6 columns</p>\n",
       "</div>"
      ],
      "text/plain": [
       "                                                 Review       date  \\\n",
       "0     I was very impressed with the resort.\\nGreat s... 2019-08-20   \n",
       "1     The rooms were nice the outside needs work als... 2019-08-20   \n",
       "2     Great location! I have stayed at this hotel on... 2019-08-20   \n",
       "3     The hotel was adequate for my stay. The strips... 2019-08-20   \n",
       "4     Great location, room was large and spacious. P... 2019-08-19   \n",
       "...                                                 ...        ...   \n",
       "6443  ·the staff were all so friendly. frank, the ch... 2019-07-12   \n",
       "6444         ·the internet barely worked or didn't work 2019-07-12   \n",
       "6445  ·the location was great.\\n\\n\\n\\n\\n·the bed was... 2019-07-10   \n",
       "6446  ·we were early for check in and the staff was ... 2019-07-10   \n",
       "6447  ·staff, free coffee, location and activities.\\... 2019-07-10   \n",
       "\n",
       "                      Location Month  Year  Day  \n",
       "0                    Sebastian   Aug  2019  Tue  \n",
       "1                  Los Angeles   Aug  2019  Tue  \n",
       "2                      Georgia   Aug  2019  Tue  \n",
       "3                          NaN   Aug  2019  Tue  \n",
       "4                  Palm Harbor   Aug  2019  Mon  \n",
       "...                        ...   ...   ...  ...  \n",
       "6443  United States of America   Jul  2019  Fri  \n",
       "6444  United States of America   Jul  2019  Fri  \n",
       "6445  United States of America   Jul  2019  Wed  \n",
       "6446  United States of America   Jul  2019  Wed  \n",
       "6447  United States of America   Jul  2019  Wed  \n",
       "\n",
       "[6448 rows x 6 columns]"
      ]
     },
     "execution_count": 20,
     "metadata": {},
     "output_type": "execute_result"
    }
   ],
   "source": [
    "df"
   ]
  },
  {
   "cell_type": "code",
   "execution_count": 21,
   "metadata": {},
   "outputs": [
    {
     "data": {
      "text/plain": [
       "<matplotlib.axes._subplots.AxesSubplot at 0x22285f3c088>"
      ]
     },
     "execution_count": 21,
     "metadata": {},
     "output_type": "execute_result"
    },
    {
     "data": {
      "image/png": "[encoded data removed]",
      "text/plain": [
       "<Figure size 432x288 with 1 Axes>"
      ]
     },
     "metadata": {
      "needs_background": "light"
     },
     "output_type": "display_data"
    }
   ],
   "source": [
    "sns.countplot(df.Day)"
   ]
  },
  {
   "cell_type": "code",
   "execution_count": 23,
   "metadata": {},
   "outputs": [
    {
     "data": {
      "image/png": "[encoded data removed]",
      "text/plain": [
       "<Figure size 576x432 with 1 Axes>"
      ]
     },
     "metadata": {
      "needs_background": "light"
     },
     "output_type": "display_data"
    },
    {
     "name": "stdout",
     "output_type": "stream",
     "text": [
      "Mon    1304\n",
      "Tue    1049\n",
      "Sat     915\n",
      "Wed     889\n",
      "Fri     830\n",
      "Sun     757\n",
      "Thu     704\n",
      "Name: Day, dtype: int64\n"
     ]
    }
   ],
   "source": [
    "plt.figure(figsize=(8,6))\n",
    "sns.countplot(df['Day'])\n",
    "plt.xticks(rotation=30)   # x-axis value name rotation\n",
    "plt.show()\n",
    "print(df['Day'].value_counts())"
   ]
  },
  {
   "cell_type": "markdown",
   "metadata": {},
   "source": [
    "interpretation:\n",
    "    \n",
    "    most of the review submited on monday which is 1304 reviews and less on thursday 704 reviews"
   ]
  },
  {
   "cell_type": "code",
   "execution_count": 22,
   "metadata": {},
   "outputs": [
    {
     "data": {
      "text/plain": [
       "<matplotlib.axes._subplots.AxesSubplot at 0x22285fc1248>"
      ]
     },
     "execution_count": 22,
     "metadata": {},
     "output_type": "execute_result"
    },
    {
     "data": {
      "image/png": "[encoded data removed]",
      "text/plain": [
       "<Figure size 432x288 with 1 Axes>"
      ]
     },
     "metadata": {
      "needs_background": "light"
     },
     "output_type": "display_data"
    }
   ],
   "source": [
    "sns.countplot(df.Month)"
   ]
  },
  {
   "cell_type": "code",
   "execution_count": 25,
   "metadata": {},
   "outputs": [
    {
     "data": {
      "image/png": "[encoded data removed]",
      "text/plain": [
       "<Figure size 576x432 with 1 Axes>"
      ]
     },
     "metadata": {
      "needs_background": "light"
     },
     "output_type": "display_data"
    },
    {
     "name": "stdout",
     "output_type": "stream",
     "text": [
      "Aug    728\n",
      "Dec    630\n",
      "Mar    605\n",
      "Apr    593\n",
      "Jul    549\n",
      "May    526\n",
      "Oct    524\n",
      "Nov    519\n",
      "Jan    513\n",
      "Sep    481\n",
      "Feb    418\n",
      "Jun    362\n",
      "Name: Month, dtype: int64\n"
     ]
    }
   ],
   "source": [
    "plt.figure(figsize=(8,6))\n",
    "sns.countplot(df['Month'])\n",
    "plt.xticks(rotation=30)   # x-axis value name rotation\n",
    "plt.show()\n",
    "print(df['Month'].value_counts())"
   ]
  },
  {
   "cell_type": "markdown",
   "metadata": {},
   "source": [
    "interpretation:\n",
    "    \n",
    "    most of the customer submitted their reviews on month aug which is 728 reviews and less on month jun 362 reviews"
   ]
  },
  {
   "cell_type": "markdown",
   "metadata": {},
   "source": [
    "conclusion:\n",
    "    \n",
    "    1)the dataset contains 6448 rows and 3 columns\n",
    "    2)there are total 3 variables pesent in the dataset.\n",
    "    3)the datasets contains 2 objests, 1 datetime value.\n",
    "    4)null values present in the dataset.\n",
    "    5)there are 55 null values present in review variable\n",
    "    6)there are 4737 null values present in location parameter\n",
    "    7)there are total 1083 unique values in location parameter\n",
    "    8)maximum unique values in location parameter is united states of america which is 116 times\n",
    "    9)most of the review submited on monday which is 1304 reviews and less on thursday 704 reviews\n",
    "    10)most of the customer submitted their reviews on month aug which is 728 reviews and less on month jun 362 reviews\n",
    "    "
   ]
  },
  {
   "cell_type": "code",
   "execution_count": null,
   "metadata": {},
   "outputs": [],
   "source": []
  }
 ],
 "metadata": {
  "kernelspec": {
   "display_name": "Python 3",
   "language": "python",
   "name": "python3"
  },
  "language_info": {
   "codemirror_mode": {
    "name": "ipython",
    "version": 3
   },
   "file_extension": ".py",
   "mimetype": "text/x-python",
   "name": "python",
   "nbconvert_exporter": "python",
   "pygments_lexer": "ipython3",
   "version": "3.7.6"
  }
 },
 "nbformat": 4,
 "nbformat_minor": 4
}
